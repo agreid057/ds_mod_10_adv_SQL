{
 "cells": [
  {
   "cell_type": "code",
   "execution_count": null,
   "metadata": {},
   "outputs": [],
   "source": [
    "#%matplotlib inline\n",
    "#from matplotlib import style\n",
    "#style.use('fivethirtyeight')\n"
   ]
  },
  {
   "cell_type": "code",
   "execution_count": 1,
   "metadata": {},
   "outputs": [],
   "source": [
    "#data science \n",
    "#adding some data viz \n",
    "\n",
    "import numpy as np\n",
    "import pandas as pd\n",
    "import datetime as dt\n",
    "import matplotlib. pyplot as plt\n",
    "import seaborn as sns\n",
    "import datetime\n",
    "# Python SQL toolkit and Object Relational Mapper\n",
    "import sqlalchemy\n",
    "from sqlalchemy.ext.automap import automap_base\n",
    "from sqlalchemy.orm import Session\n",
    "from sqlalchemy import create_engine, text, inspect, func\n",
    "\n"
   ]
  },
  {
   "cell_type": "markdown",
   "metadata": {},
   "source": [
    "# Reflect Tables into SQLAlchemy ORM"
   ]
  },
  {
   "cell_type": "code",
   "execution_count": 2,
   "metadata": {},
   "outputs": [],
   "source": [
    "# Create engine using the `hawaii.sqlite` database file\n",
    "engine = create_engine(\"sqlite:///Resources/hawaii.sqlite\")\n"
   ]
  },
  {
   "cell_type": "code",
   "execution_count": 3,
   "metadata": {},
   "outputs": [
    {
     "name": "stdout",
     "output_type": "stream",
     "text": [
      "measurement\n",
      "-----------\n",
      "id INTEGER\n",
      "station TEXT\n",
      "date TEXT\n",
      "prcp FLOAT\n",
      "tobs FLOAT\n",
      "\n",
      "station\n",
      "-----------\n",
      "id INTEGER\n",
      "station TEXT\n",
      "name TEXT\n",
      "latitude FLOAT\n",
      "longitude FLOAT\n",
      "elevation FLOAT\n",
      "\n"
     ]
    }
   ],
   "source": [
    "# INSPECT to get an idea of whats going on with the engine \n",
    "\n",
    "# Create the inspector and connect it to the engine\n",
    "inspector_gadget = inspect(engine)\n",
    "\n",
    "# Collect the names of tables within the database\n",
    "tables = inspector_gadget.get_table_names()\n",
    "\n",
    "# print metadata for each table\n",
    "for table in tables:\n",
    "    print(table)\n",
    "    print(\"-----------\")\n",
    "    \n",
    "    # get columns\n",
    "    columns = inspector_gadget.get_columns(table)\n",
    "    for column in columns:\n",
    "        print(column[\"name\"], column[\"type\"])\n",
    "\n",
    "    print()"
   ]
  },
  {
   "cell_type": "code",
   "execution_count": 4,
   "metadata": {},
   "outputs": [],
   "source": [
    "# Declare a Base using `automap_base()`\n",
    "Base = automap_base()\n",
    "\n",
    "# Use the Base class to reflect the database tables\n",
    "Base.prepare(autoload_with=engine)"
   ]
  },
  {
   "cell_type": "code",
   "execution_count": 5,
   "metadata": {},
   "outputs": [
    {
     "name": "stdout",
     "output_type": "stream",
     "text": [
      "[<class 'sqlalchemy.ext.automap.measurement'>, <class 'sqlalchemy.ext.automap.station'>]\n"
     ]
    }
   ],
   "source": [
    "# Print all of the classes mapped to the Base\n",
    "print(list(Base.classes))"
   ]
  },
  {
   "cell_type": "code",
   "execution_count": 6,
   "metadata": {},
   "outputs": [],
   "source": [
    "# Assign the measurement class to a variable called `Measurement` and\n",
    "# the station class to a variable called `Station`\n",
    "Measurement = Base.classes.measurement\n",
    "Station = Base.classes.station"
   ]
  },
  {
   "cell_type": "code",
   "execution_count": 7,
   "metadata": {},
   "outputs": [],
   "source": [
    "# Create a session\n",
    "session = Session(engine)"
   ]
  },
  {
   "cell_type": "markdown",
   "metadata": {},
   "source": [
    "# Exploratory Precipitation Analysis"
   ]
  },
  {
   "cell_type": "code",
   "execution_count": 8,
   "metadata": {},
   "outputs": [
    {
     "name": "stdout",
     "output_type": "stream",
     "text": [
      "[('2017-08-23',)]\n"
     ]
    }
   ],
   "source": [
    "# Find the most recent date in the data set.\n",
    "query = \"SELECT max(date) from measurement\"\n",
    "\n",
    "with engine.connect() as conn:\n",
    "    print(conn.execute(text(query)).fetchall())\n"
   ]
  },
  {
   "cell_type": "code",
   "execution_count": 9,
   "metadata": {},
   "outputs": [
    {
     "data": {
      "text/html": [
       "<div>\n",
       "<style scoped>\n",
       "    .dataframe tbody tr th:only-of-type {\n",
       "        vertical-align: middle;\n",
       "    }\n",
       "\n",
       "    .dataframe tbody tr th {\n",
       "        vertical-align: top;\n",
       "    }\n",
       "\n",
       "    .dataframe thead th {\n",
       "        text-align: right;\n",
       "    }\n",
       "</style>\n",
       "<table border=\"1\" class=\"dataframe\">\n",
       "  <thead>\n",
       "    <tr style=\"text-align: right;\">\n",
       "      <th></th>\n",
       "      <th>date</th>\n",
       "      <th>station</th>\n",
       "      <th>prcp</th>\n",
       "    </tr>\n",
       "  </thead>\n",
       "  <tbody>\n",
       "    <tr>\n",
       "      <th>0</th>\n",
       "      <td>2016-08-23</td>\n",
       "      <td>USC00519397</td>\n",
       "      <td>0.00</td>\n",
       "    </tr>\n",
       "    <tr>\n",
       "      <th>1</th>\n",
       "      <td>2016-08-23</td>\n",
       "      <td>USC00513117</td>\n",
       "      <td>0.15</td>\n",
       "    </tr>\n",
       "    <tr>\n",
       "      <th>2</th>\n",
       "      <td>2016-08-23</td>\n",
       "      <td>USC00514830</td>\n",
       "      <td>0.05</td>\n",
       "    </tr>\n",
       "    <tr>\n",
       "      <th>3</th>\n",
       "      <td>2016-08-23</td>\n",
       "      <td>USC00517948</td>\n",
       "      <td>NaN</td>\n",
       "    </tr>\n",
       "    <tr>\n",
       "      <th>4</th>\n",
       "      <td>2016-08-23</td>\n",
       "      <td>USC00519523</td>\n",
       "      <td>0.02</td>\n",
       "    </tr>\n",
       "    <tr>\n",
       "      <th>5</th>\n",
       "      <td>2016-08-23</td>\n",
       "      <td>USC00519281</td>\n",
       "      <td>1.79</td>\n",
       "    </tr>\n",
       "    <tr>\n",
       "      <th>6</th>\n",
       "      <td>2016-08-23</td>\n",
       "      <td>USC00516128</td>\n",
       "      <td>0.70</td>\n",
       "    </tr>\n",
       "  </tbody>\n",
       "</table>\n",
       "</div>"
      ],
      "text/plain": [
       "         date      station  prcp\n",
       "0  2016-08-23  USC00519397  0.00\n",
       "1  2016-08-23  USC00513117  0.15\n",
       "2  2016-08-23  USC00514830  0.05\n",
       "3  2016-08-23  USC00517948   NaN\n",
       "4  2016-08-23  USC00519523  0.02\n",
       "5  2016-08-23  USC00519281  1.79\n",
       "6  2016-08-23  USC00516128  0.70"
      ]
     },
     "execution_count": 9,
     "metadata": {},
     "output_type": "execute_result"
    }
   ],
   "source": [
    "#trying in raw sql to see all the data for the date\n",
    "query = \"\"\"\n",
    "    SELECT date, station, prcp\n",
    "    FROM measurement\n",
    "    WHERE date = '2016-08-23'\n",
    "\"\"\"\n",
    "\n",
    "date_df = pd.read_sql(text(query), con = engine)\n",
    "date_df"
   ]
  },
  {
   "cell_type": "code",
   "execution_count": 15,
   "metadata": {},
   "outputs": [
    {
     "data": {
      "text/html": [
       "<div>\n",
       "<style scoped>\n",
       "    .dataframe tbody tr th:only-of-type {\n",
       "        vertical-align: middle;\n",
       "    }\n",
       "\n",
       "    .dataframe tbody tr th {\n",
       "        vertical-align: top;\n",
       "    }\n",
       "\n",
       "    .dataframe thead th {\n",
       "        text-align: right;\n",
       "    }\n",
       "</style>\n",
       "<table border=\"1\" class=\"dataframe\">\n",
       "  <thead>\n",
       "    <tr style=\"text-align: right;\">\n",
       "      <th></th>\n",
       "      <th>Date</th>\n",
       "      <th>Station</th>\n",
       "      <th>precipitation</th>\n",
       "    </tr>\n",
       "  </thead>\n",
       "  <tbody>\n",
       "    <tr>\n",
       "      <th>0</th>\n",
       "      <td>2016-08-23</td>\n",
       "      <td>USC00519397</td>\n",
       "      <td>0.00</td>\n",
       "    </tr>\n",
       "    <tr>\n",
       "      <th>1</th>\n",
       "      <td>2016-08-23</td>\n",
       "      <td>USC00513117</td>\n",
       "      <td>0.15</td>\n",
       "    </tr>\n",
       "    <tr>\n",
       "      <th>2</th>\n",
       "      <td>2016-08-23</td>\n",
       "      <td>USC00514830</td>\n",
       "      <td>0.05</td>\n",
       "    </tr>\n",
       "    <tr>\n",
       "      <th>3</th>\n",
       "      <td>2016-08-23</td>\n",
       "      <td>USC00517948</td>\n",
       "      <td>NaN</td>\n",
       "    </tr>\n",
       "    <tr>\n",
       "      <th>4</th>\n",
       "      <td>2016-08-23</td>\n",
       "      <td>USC00519523</td>\n",
       "      <td>0.02</td>\n",
       "    </tr>\n",
       "  </tbody>\n",
       "</table>\n",
       "</div>"
      ],
      "text/plain": [
       "        Date      Station  precipitation\n",
       "0 2016-08-23  USC00519397           0.00\n",
       "1 2016-08-23  USC00513117           0.15\n",
       "2 2016-08-23  USC00514830           0.05\n",
       "3 2016-08-23  USC00517948            NaN\n",
       "4 2016-08-23  USC00519523           0.02"
      ]
     },
     "execution_count": 15,
     "metadata": {},
     "output_type": "execute_result"
    }
   ],
   "source": [
    "# Design a query to retrieve the last 12 months of precipitation data and plot the results.\n",
    "# Starting from the most recent data point in the database.\n",
    "\n",
    "# Calculate the date one year from the last date in data set.\n",
    "start_date = datetime.date(2016, 8, 23)\n",
    "\n",
    "# Perform a query to retrieve the data and precipitation scores\n",
    "results = session.query(Measurement.date, Measurement.station, Measurement.prcp).\\\n",
    "    filter(Measurement.date >= start_date).\\\n",
    "    order_by(Measurement.date.asc()).\\\n",
    "    all()\n",
    "\n",
    "# Save the query results as a Pandas DataFrame. Explicitly set the column names\n",
    "station_year = pd.DataFrame(results,columns = [\"Date\", \"Station\", \"precipitation\"])\n",
    "\n",
    "# Sort the dataframe by date\n",
    "station_year[\"Date\"] = pd.to_datetime(station_year['Date'])\n",
    "station_year = station_year.sort_values(by= \"Date\", ascending = True).reset_index(drop= True)\n",
    "\n",
    "# Use Pandas Plotting with Matplotlib to plot the data\n",
    "station_year.head()"
   ]
  },
  {
   "cell_type": "code",
   "execution_count": 18,
   "metadata": {},
   "outputs": [
    {
     "data": {
      "image/png": "[encoded data removed]",
      "text/plain": [
       "<Figure size 1600x1200 with 1 Axes>"
      ]
     },
     "metadata": {},
     "output_type": "display_data"
    }
   ],
   "source": [
    "plt.figure(figsize=(16,12))\n",
    "\n",
    "plt.plot(station_year.Date, station_year.precipitation, color = \"#0F8B8D\")\n",
    "\n",
    "plt.show()"
   ]
  },
  {
   "cell_type": "code",
   "execution_count": 20,
   "metadata": {},
   "outputs": [
    {
     "data": {
      "text/plain": [
       "count    2021.000000\n",
       "mean        0.177279\n",
       "std         0.461190\n",
       "min         0.000000\n",
       "25%         0.000000\n",
       "50%         0.020000\n",
       "75%         0.130000\n",
       "max         6.700000\n",
       "Name: precipitation, dtype: float64"
      ]
     },
     "execution_count": 20,
     "metadata": {},
     "output_type": "execute_result"
    }
   ],
   "source": [
    "# Use Pandas to calculate the summary statistics for the precipitation data\n",
    "station_year.precipitation.describe()\n"
   ]
  },
  {
   "cell_type": "markdown",
   "metadata": {},
   "source": [
    "# Exploratory Station Analysis"
   ]
  },
  {
   "cell_type": "code",
   "execution_count": 22,
   "metadata": {},
   "outputs": [
    {
     "name": "stdout",
     "output_type": "stream",
     "text": [
      "[(9,)]\n"
     ]
    }
   ],
   "source": [
    "# Design a query to calculate the total number of stations in the dataset\n",
    "query = \"SELECT count(id) FROM station\"\n",
    "\n",
    "with engine.connect() as conn:\n",
    "    print(conn.execute(text(query)).fetchall())"
   ]
  },
  {
   "cell_type": "code",
   "execution_count": 25,
   "metadata": {},
   "outputs": [
    {
     "data": {
      "text/html": [
       "<div>\n",
       "<style scoped>\n",
       "    .dataframe tbody tr th:only-of-type {\n",
       "        vertical-align: middle;\n",
       "    }\n",
       "\n",
       "    .dataframe tbody tr th {\n",
       "        vertical-align: top;\n",
       "    }\n",
       "\n",
       "    .dataframe thead th {\n",
       "        text-align: right;\n",
       "    }\n",
       "</style>\n",
       "<table border=\"1\" class=\"dataframe\">\n",
       "  <thead>\n",
       "    <tr style=\"text-align: right;\">\n",
       "      <th></th>\n",
       "      <th>station</th>\n",
       "      <th>num_rows</th>\n",
       "    </tr>\n",
       "  </thead>\n",
       "  <tbody>\n",
       "    <tr>\n",
       "      <th>0</th>\n",
       "      <td>USC00519281</td>\n",
       "      <td>2772</td>\n",
       "    </tr>\n",
       "    <tr>\n",
       "      <th>1</th>\n",
       "      <td>USC00519397</td>\n",
       "      <td>2724</td>\n",
       "    </tr>\n",
       "    <tr>\n",
       "      <th>2</th>\n",
       "      <td>USC00513117</td>\n",
       "      <td>2709</td>\n",
       "    </tr>\n",
       "    <tr>\n",
       "      <th>3</th>\n",
       "      <td>USC00519523</td>\n",
       "      <td>2669</td>\n",
       "    </tr>\n",
       "    <tr>\n",
       "      <th>4</th>\n",
       "      <td>USC00516128</td>\n",
       "      <td>2612</td>\n",
       "    </tr>\n",
       "  </tbody>\n",
       "</table>\n",
       "</div>"
      ],
      "text/plain": [
       "       station  num_rows\n",
       "0  USC00519281      2772\n",
       "1  USC00519397      2724\n",
       "2  USC00513117      2709\n",
       "3  USC00519523      2669\n",
       "4  USC00516128      2612"
      ]
     },
     "execution_count": 25,
     "metadata": {},
     "output_type": "execute_result"
    }
   ],
   "source": [
    "# Design a query to find the most active stations (i.e. which stations have the most rows?)\n",
    "# List the stations and their counts in descending order.\n",
    "query = \"\"\"\n",
    "    SELECT station, count(*) as num_rows\n",
    "    FROM measurement\n",
    "    GROUP BY station\n",
    "    ORDER BY num_rows desc;\n",
    "\"\"\"\n",
    "active_stations = pd.read_sql(text(query), con = engine)\n",
    "active_stations.head()"
   ]
  },
  {
   "cell_type": "code",
   "execution_count": 31,
   "metadata": {},
   "outputs": [
    {
     "data": {
      "text/html": [
       "<div>\n",
       "<style scoped>\n",
       "    .dataframe tbody tr th:only-of-type {\n",
       "        vertical-align: middle;\n",
       "    }\n",
       "\n",
       "    .dataframe tbody tr th {\n",
       "        vertical-align: top;\n",
       "    }\n",
       "\n",
       "    .dataframe thead th {\n",
       "        text-align: right;\n",
       "    }\n",
       "</style>\n",
       "<table border=\"1\" class=\"dataframe\">\n",
       "  <thead>\n",
       "    <tr style=\"text-align: right;\">\n",
       "      <th></th>\n",
       "      <th>min_temp</th>\n",
       "      <th>avg_temp</th>\n",
       "      <th>max_temp</th>\n",
       "    </tr>\n",
       "  </thead>\n",
       "  <tbody>\n",
       "    <tr>\n",
       "      <th>0</th>\n",
       "      <td>54.0</td>\n",
       "      <td>71.663781</td>\n",
       "      <td>85.0</td>\n",
       "    </tr>\n",
       "  </tbody>\n",
       "</table>\n",
       "</div>"
      ],
      "text/plain": [
       "   min_temp   avg_temp  max_temp\n",
       "0      54.0  71.663781      85.0"
      ]
     },
     "execution_count": 31,
     "metadata": {},
     "output_type": "execute_result"
    }
   ],
   "source": [
    "# Using the most active station id from the previous query, calculate the lowest, highest, and average temperature.\n",
    "query = \"\"\"\n",
    "    SELECT min(tobs) as min_temp, avg(tobs) as avg_temp, max(tobs) as max_temp\n",
    "    FROM measurement\n",
    "    WHERE station = 'USC00519281';\n",
    "\"\"\"\n",
    "\n",
    "most_active_station = pd.read_sql(text(query), con=engine)\n",
    "most_active_station.head()"
   ]
  },
  {
   "cell_type": "code",
   "execution_count": 32,
   "metadata": {},
   "outputs": [
    {
     "data": {
      "text/html": [
       "<div>\n",
       "<style scoped>\n",
       "    .dataframe tbody tr th:only-of-type {\n",
       "        vertical-align: middle;\n",
       "    }\n",
       "\n",
       "    .dataframe tbody tr th {\n",
       "        vertical-align: top;\n",
       "    }\n",
       "\n",
       "    .dataframe thead th {\n",
       "        text-align: right;\n",
       "    }\n",
       "</style>\n",
       "<table border=\"1\" class=\"dataframe\">\n",
       "  <thead>\n",
       "    <tr style=\"text-align: right;\">\n",
       "      <th></th>\n",
       "      <th>date</th>\n",
       "      <th>station</th>\n",
       "      <th>tobs</th>\n",
       "    </tr>\n",
       "  </thead>\n",
       "  <tbody>\n",
       "    <tr>\n",
       "      <th>0</th>\n",
       "      <td>2016-08-23</td>\n",
       "      <td>USC00519281</td>\n",
       "      <td>77.0</td>\n",
       "    </tr>\n",
       "    <tr>\n",
       "      <th>1</th>\n",
       "      <td>2016-08-24</td>\n",
       "      <td>USC00519281</td>\n",
       "      <td>77.0</td>\n",
       "    </tr>\n",
       "    <tr>\n",
       "      <th>2</th>\n",
       "      <td>2016-08-25</td>\n",
       "      <td>USC00519281</td>\n",
       "      <td>80.0</td>\n",
       "    </tr>\n",
       "    <tr>\n",
       "      <th>3</th>\n",
       "      <td>2016-08-26</td>\n",
       "      <td>USC00519281</td>\n",
       "      <td>80.0</td>\n",
       "    </tr>\n",
       "    <tr>\n",
       "      <th>4</th>\n",
       "      <td>2016-08-27</td>\n",
       "      <td>USC00519281</td>\n",
       "      <td>75.0</td>\n",
       "    </tr>\n",
       "  </tbody>\n",
       "</table>\n",
       "</div>"
      ],
      "text/plain": [
       "         date      station  tobs\n",
       "0  2016-08-23  USC00519281  77.0\n",
       "1  2016-08-24  USC00519281  77.0\n",
       "2  2016-08-25  USC00519281  80.0\n",
       "3  2016-08-26  USC00519281  80.0\n",
       "4  2016-08-27  USC00519281  75.0"
      ]
     },
     "execution_count": 32,
     "metadata": {},
     "output_type": "execute_result"
    }
   ],
   "source": [
    "# Using the most active station id\n",
    "# Query the last 12 months of temperature observation data for this station and plot the results as a histogram\n",
    "\n",
    "query = \"\"\"\n",
    "    SELECT date,station,tobs\n",
    "    FROM measurement\n",
    "    WHERE date >= '2016-08-23' AND station = 'USC00519281'\n",
    "    ORDER BY date ASC;\n",
    "\"\"\"\n",
    "\n",
    "most_active_station_temp = pd.read_sql(text(query), con=engine)\n",
    "most_active_station_temp.head()"
   ]
  },
  {
   "cell_type": "code",
   "execution_count": 35,
   "metadata": {},
   "outputs": [
    {
     "data": {
      "image/png": "[encoded data removed]",
      "text/plain": [
       "<Figure size 1200x800 with 1 Axes>"
      ]
     },
     "metadata": {},
     "output_type": "display_data"
    }
   ],
   "source": [
    "plt.figure (figsize=(12,8))\n",
    "plt.ylabel(\"count\")\n",
    "plt.title(\"Histogram of Temp for Station USC00519281\")\n",
    "plt.hist(most_active_station_temp.tobs, color = \"#E08DAC\")\n",
    "plt.show()"
   ]
  },
  {
   "cell_type": "markdown",
   "metadata": {},
   "source": [
    "# Close Session"
   ]
  },
  {
   "cell_type": "code",
   "execution_count": 36,
   "metadata": {},
   "outputs": [],
   "source": [
    "# Close Session\n",
    "session.close()\n"
   ]
  },
  {
   "cell_type": "code",
   "execution_count": null,
   "metadata": {},
   "outputs": [],
   "source": []
  }
 ],
 "metadata": {
  "anaconda-cloud": {},
  "kernel_info": {
   "name": "python3"
  },
  "kernelspec": {
   "display_name": "Python 3 (ipykernel)",
   "language": "python",
   "name": "python3"
  },
  "language_info": {
   "codemirror_mode": {
    "name": "ipython",
    "version": 3
   },
   "file_extension": ".py",
   "mimetype": "text/x-python",
   "name": "python",
   "nbconvert_exporter": "python",
   "pygments_lexer": "ipython3",
   "version": "3.10.13"
  },
  "nteract": {
   "version": "0.12.3"
  },
  "varInspector": {
   "cols": {
    "lenName": 16,
    "lenType": 16,
    "lenVar": 40
   },
   "kernels_config": {
    "python": {
     "delete_cmd_postfix": "",
     "delete_cmd_prefix": "del ",
     "library": "var_list.py",
     "varRefreshCmd": "print(var_dic_list())"
    },
    "r": {
     "delete_cmd_postfix": ") ",
     "delete_cmd_prefix": "rm(",
     "library": "var_list.r",
     "varRefreshCmd": "cat(var_dic_list()) "
    }
   },
   "types_to_exclude": [
    "module",
    "function",
    "builtin_function_or_method",
    "instance",
    "_Feature"
   ],
   "window_display": false
  }
 },
 "nbformat": 4,
 "nbformat_minor": 4
}
